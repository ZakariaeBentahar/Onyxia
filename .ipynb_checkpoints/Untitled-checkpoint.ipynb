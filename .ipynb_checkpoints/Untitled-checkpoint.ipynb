{
 "cells": [
  {
   "cell_type": "code",
   "execution_count": 1,
   "id": "3ed85782-d558-4128-9cee-b21e2d387a93",
   "metadata": {},
   "outputs": [
    {
     "name": "stdout",
     "output_type": "stream",
     "text": [
      "\u001b]11;?\u001b\\\u001b[6n\u001b[32;1mmc: \u001b[0m\u001b[32;1mConfiguration written to `/home/onyxia/.mc/config.json`. Please update your access credentials.\u001b[0;22m\n",
      "\u001b[32;1mmc: \u001b[0m\u001b[32;1mSuccessfully created `/home/onyxia/.mc/share`.\n",
      "\u001b[0m\u001b[32;1mmc: \u001b[0m\u001b[32;1mInitialized share uploads `/home/onyxia/.mc/share/uploads.json` file.\n",
      "\u001b[0m\u001b[32;1mmc: \u001b[0m\u001b[32;1mInitialized share downloads `/home/onyxia/.mc/share/downloads.json` file.\n",
      "\u001b[0m\u001b[m\u001b[32m[2024-10-21 09:58:10 UTC]\u001b[0m\u001b[33m  12MiB\u001b[0m \u001b[34mSTANDARD\u001b[0m\u001b[1m usagers-2022.csv\u001b[22m\u001b[m\n",
      "\u001b[m\u001b[32m[2024-10-21 09:58:11 UTC]\u001b[0m\u001b[33m 5.7MiB\u001b[0m \u001b[34mSTANDARD\u001b[0m\u001b[1m vehicules-2022.csv\u001b[22m\u001b[m\n"
     ]
    }
   ],
   "source": [
    "!mc ls s3/zakariaebentahar"
   ]
  },
  {
   "cell_type": "code",
   "execution_count": 2,
   "id": "22bb5a62-d75f-4b59-bdac-44d869007508",
   "metadata": {},
   "outputs": [
    {
     "name": "stdout",
     "output_type": "stream",
     "text": [
      "...s-2022.csv: 12.41 MiB / 12.41 MiB ┃▓▓▓▓▓▓▓▓▓▓▓▓▓▓▓▓▓▓▓▓▓▓▓▓▓▓┃ 28.19 MiB/s 0s\u001b[0;22m\u001b[0m\u001b[m\u001b[32;1m\u001b[m\u001b[32;1m\u001b[m\u001b[32;1m\u001b[m\u001b[32;1m"
     ]
    }
   ],
   "source": [
    "!mc cp s3/zakariaebentahar/usagers-2022.csv ./"
   ]
  },
  {
   "cell_type": "code",
   "execution_count": 4,
   "id": "55e8c069-202f-43f4-84dd-f94d770feda7",
   "metadata": {
    "scrolled": true
   },
   "outputs": [
    {
     "ename": "SyntaxError",
     "evalue": "invalid syntax (1852106394.py, line 2)",
     "output_type": "error",
     "traceback": [
      "\u001b[0;36m  Cell \u001b[0;32mIn[4], line 2\u001b[0;36m\u001b[0m\n\u001b[0;31m    python3 -m http.server 8000\u001b[0m\n\u001b[0m               ^\u001b[0m\n\u001b[0;31mSyntaxError\u001b[0m\u001b[0;31m:\u001b[0m invalid syntax\n"
     ]
    }
   ],
   "source": [
    "import http\n",
    "python3 -m http.server 8000"
   ]
  },
  {
   "cell_type": "code",
   "execution_count": 8,
   "id": "82d22f0f-4a53-43f3-bbef-945cfede90be",
   "metadata": {},
   "outputs": [
    {
     "name": "stdout",
     "output_type": "stream",
     "text": [
      "...s-2022.csv: 5.74 MiB / 5.74 MiB ┃▓▓▓▓▓▓▓▓▓▓▓▓▓▓▓▓▓▓▓▓▓▓▓▓▓▓▓▓┃ 28.91 MiB/s 0s\u001b[0;22m\u001b[0m\u001b[m\u001b[32;1m\u001b[m\u001b[32;1m"
     ]
    }
   ],
   "source": [
    "## Connexion au POSTGRESQL\n",
    "!mc cp s3/zakariaebentahar/vehicules-2022.csv ./"
   ]
  },
  {
   "cell_type": "code",
   "execution_count": 5,
   "id": "3182e1d2-f217-485f-bc37-df535d6068f4",
   "metadata": {},
   "outputs": [
    {
     "name": "stdout",
     "output_type": "stream",
     "text": [
      "Requirement already satisfied: pandas in /opt/conda/lib/python3.12/site-packages (2.2.3)\n",
      "Collecting psycopg2-binary\n",
      "  Downloading psycopg2_binary-2.9.10-cp312-cp312-manylinux_2_17_x86_64.manylinux2014_x86_64.whl.metadata (4.9 kB)\n",
      "Requirement already satisfied: sqlalchemy in /opt/conda/lib/python3.12/site-packages (2.0.36)\n",
      "Requirement already satisfied: numpy>=1.26.0 in /opt/conda/lib/python3.12/site-packages (from pandas) (2.1.2)\n",
      "Requirement already satisfied: python-dateutil>=2.8.2 in /opt/conda/lib/python3.12/site-packages (from pandas) (2.9.0)\n",
      "Requirement already satisfied: pytz>=2020.1 in /opt/conda/lib/python3.12/site-packages (from pandas) (2024.1)\n",
      "Requirement already satisfied: tzdata>=2022.7 in /opt/conda/lib/python3.12/site-packages (from pandas) (2024.2)\n",
      "Requirement already satisfied: typing-extensions>=4.6.0 in /opt/conda/lib/python3.12/site-packages (from sqlalchemy) (4.12.2)\n",
      "Requirement already satisfied: greenlet!=0.4.17 in /opt/conda/lib/python3.12/site-packages (from sqlalchemy) (3.1.1)\n",
      "Requirement already satisfied: six>=1.5 in /opt/conda/lib/python3.12/site-packages (from python-dateutil>=2.8.2->pandas) (1.16.0)\n",
      "Downloading psycopg2_binary-2.9.10-cp312-cp312-manylinux_2_17_x86_64.manylinux2014_x86_64.whl (3.0 MB)\n",
      "\u001b[2K   \u001b[90m━━━━━━━━━━━━━━━━━━━━━━━━━━━━━━━━━━━━━━━━\u001b[0m \u001b[32m3.0/3.0 MB\u001b[0m \u001b[31m19.5 MB/s\u001b[0m eta \u001b[36m0:00:00\u001b[0m\n",
      "\u001b[?25hInstalling collected packages: psycopg2-binary\n",
      "Successfully installed psycopg2-binary-2.9.10\n"
     ]
    }
   ],
   "source": [
    "!pip install pandas psycopg2-binary sqlalchemy"
   ]
  },
  {
   "cell_type": "code",
   "execution_count": 18,
   "id": "21dd2a10-ff59-4a94-97f2-5094fae5db77",
   "metadata": {},
   "outputs": [
    {
     "name": "stdout",
     "output_type": "stream",
     "text": [
      "        Num_Acc  id_usager id_vehicule num_veh  place  catu  grav  sexe  \\\n",
      "0  202200000001  1 099 700     813 952     A01      1     1     3     1   \n",
      "1  202200000001  1 099 701     813 953     B01      1     1     1     1   \n",
      "2  202200000002  1 099 698     813 950     B01      1     1     4     1   \n",
      "3  202200000002  1 099 699     813 951     A01      1     1     1     1   \n",
      "4  202200000003  1 099 696     813 948     A01      1     1     1     1   \n",
      "\n",
      "   an_nais  trajet  secu1  secu2  secu3  locp actp  etatp  \n",
      "0   2008.0       5      2      8     -1    -1   -1     -1  \n",
      "1   1948.0       5      1      8     -1    -1   -1     -1  \n",
      "2   1988.0       9      1      0     -1     0    0     -1  \n",
      "3   1970.0       4      1      0     -1     0    0     -1  \n",
      "4   2002.0       0      1      0     -1    -1   -1     -1  \n"
     ]
    }
   ],
   "source": [
    "import pandas as pd\n",
    "df1 = pd.read_csv('usagers-2022.csv',sep=';')\n",
    "df2 = pd.read_csv('vehicules-2022.csv',sep = ';')\n",
    "\n",
    "\n",
    "print(df1.head())"
   ]
  },
  {
   "cell_type": "code",
   "execution_count": 21,
   "id": "1ec33172-218f-4f71-bae6-f37638797274",
   "metadata": {},
   "outputs": [
    {
     "data": {
      "text/plain": [
       "662"
      ]
     },
     "execution_count": 21,
     "metadata": {},
     "output_type": "execute_result"
    }
   ],
   "source": [
    "from sqlalchemy import create_engine\n",
    "\n",
    "user = 'user-zakariaebentahar'\n",
    "password = 'hxdp3znejmbqivt0sa5o'\n",
    "hostname = 'postgresql-520982.user-zakariaebentahar'\n",
    "database = 'defaultdb'\n",
    "\n",
    "engine = create_engine(f'postgresql+psycopg2://{user}:{password}@{hostname}/{database}')\n",
    "\n",
    "df1.to_sql('usagers', engine, if_exists='replace', index=False)\n",
    "\n",
    "with engine.connect() as connection:\n",
    "    result = pd.read_sql('SELECT * FROM usagers', connection)\n",
    "\n",
    "print(result.head())\n",
    "\n"
   ]
  },
  {
   "cell_type": "code",
   "execution_count": 23,
   "id": "830c505c-a84d-4a2f-a0d2-9d6e82f9a753",
   "metadata": {},
   "outputs": [
    {
     "name": "stdout",
     "output_type": "stream",
     "text": [
      "        Num_Acc  id_usager id_vehicule num_veh  place  catu  grav  sexe  \\\n",
      "0  202200000001  1 099 700     813 952     A01      1     1     3     1   \n",
      "1  202200000001  1 099 701     813 953     B01      1     1     1     1   \n",
      "2  202200000002  1 099 698     813 950     B01      1     1     4     1   \n",
      "3  202200000002  1 099 699     813 951     A01      1     1     1     1   \n",
      "4  202200000003  1 099 696     813 948     A01      1     1     1     1   \n",
      "\n",
      "   an_nais  trajet  secu1  secu2  secu3  locp actp  etatp  \n",
      "0   2008.0       5      2      8     -1    -1   -1     -1  \n",
      "1   1948.0       5      1      8     -1    -1   -1     -1  \n",
      "2   1988.0       9      1      0     -1     0    0     -1  \n",
      "3   1970.0       4      1      0     -1     0    0     -1  \n",
      "4   2002.0       0      1      0     -1    -1   -1     -1  \n"
     ]
    }
   ],
   "source": [
    "\n",
    "df2.to_sql('vehicules', engine, if_exists='replace', index=False)"
   ]
  }
 ],
 "metadata": {
  "kernelspec": {
   "display_name": "Python 3 (ipykernel)",
   "language": "python",
   "name": "python3"
  },
  "language_info": {
   "codemirror_mode": {
    "name": "ipython",
    "version": 3
   },
   "file_extension": ".py",
   "mimetype": "text/x-python",
   "name": "python",
   "nbconvert_exporter": "python",
   "pygments_lexer": "ipython3",
   "version": "3.12.6"
  }
 },
 "nbformat": 4,
 "nbformat_minor": 5
}
